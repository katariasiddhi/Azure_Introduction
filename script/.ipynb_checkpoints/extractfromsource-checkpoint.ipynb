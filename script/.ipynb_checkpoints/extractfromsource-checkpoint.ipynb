{
 "cells": [
  {
   "cell_type": "code",
   "execution_count": 4,
   "id": "563340ce",
   "metadata": {},
   "outputs": [
    {
     "name": "stdout",
     "output_type": "stream",
     "text": [
      "Requirement already satisfied: azure-storage-blob in /Users/siddhikataria/opt/anaconda3/lib/python3.9/site-packages (12.19.1)\n",
      "Requirement already satisfied: azure-core<2.0.0,>=1.28.0 in /Users/siddhikataria/opt/anaconda3/lib/python3.9/site-packages (from azure-storage-blob) (1.30.1)\n",
      "Requirement already satisfied: isodate>=0.6.1 in /Users/siddhikataria/opt/anaconda3/lib/python3.9/site-packages (from azure-storage-blob) (0.6.1)\n",
      "Requirement already satisfied: typing-extensions>=4.3.0 in /Users/siddhikataria/opt/anaconda3/lib/python3.9/site-packages (from azure-storage-blob) (4.11.0)\n",
      "Requirement already satisfied: cryptography>=2.1.4 in /Users/siddhikataria/opt/anaconda3/lib/python3.9/site-packages (from azure-storage-blob) (37.0.1)\n",
      "Requirement already satisfied: requests>=2.21.0 in /Users/siddhikataria/opt/anaconda3/lib/python3.9/site-packages (from azure-core<2.0.0,>=1.28.0->azure-storage-blob) (2.28.1)\n",
      "Requirement already satisfied: six>=1.11.0 in /Users/siddhikataria/opt/anaconda3/lib/python3.9/site-packages (from azure-core<2.0.0,>=1.28.0->azure-storage-blob) (1.16.0)\n",
      "Requirement already satisfied: cffi>=1.12 in /Users/siddhikataria/opt/anaconda3/lib/python3.9/site-packages (from cryptography>=2.1.4->azure-storage-blob) (1.15.1)\n",
      "Requirement already satisfied: pycparser in /Users/siddhikataria/opt/anaconda3/lib/python3.9/site-packages (from cffi>=1.12->cryptography>=2.1.4->azure-storage-blob) (2.21)\n",
      "Requirement already satisfied: certifi>=2017.4.17 in /Users/siddhikataria/opt/anaconda3/lib/python3.9/site-packages (from requests>=2.21.0->azure-core<2.0.0,>=1.28.0->azure-storage-blob) (2022.9.24)\n",
      "Requirement already satisfied: urllib3<1.27,>=1.21.1 in /Users/siddhikataria/opt/anaconda3/lib/python3.9/site-packages (from requests>=2.21.0->azure-core<2.0.0,>=1.28.0->azure-storage-blob) (1.26.11)\n",
      "Requirement already satisfied: charset-normalizer<3,>=2 in /Users/siddhikataria/opt/anaconda3/lib/python3.9/site-packages (from requests>=2.21.0->azure-core<2.0.0,>=1.28.0->azure-storage-blob) (2.0.4)\n",
      "Requirement already satisfied: idna<4,>=2.5 in /Users/siddhikataria/opt/anaconda3/lib/python3.9/site-packages (from requests>=2.21.0->azure-core<2.0.0,>=1.28.0->azure-storage-blob) (3.3)\n"
     ]
    }
   ],
   "source": [
    "#download libraries\n",
    "!pip install azure-storage-blob\n"
   ]
  },
  {
   "cell_type": "code",
   "execution_count": 5,
   "id": "a31bc926",
   "metadata": {},
   "outputs": [],
   "source": [
    "#importing libraries\n",
    "import pandas as pd\n",
    "import numpy as np\n",
    "import json\n",
    "import requests\n",
    "\n",
    "from io import StringIO\n",
    "from azure.storage.blob import BlobServiceClient, BlobClient, ContainerClient"
   ]
  },
  {
   "cell_type": "code",
   "execution_count": 3,
   "id": "99e6f827",
   "metadata": {},
   "outputs": [],
   "source": [
    "#extracting from data source"
   ]
  },
  {
   "cell_type": "code",
   "execution_count": 6,
   "id": "5060de24",
   "metadata": {},
   "outputs": [
    {
     "name": "stdout",
     "output_type": "stream",
     "text": [
      "<class 'pandas.core.frame.DataFrame'>\n",
      "RangeIndex: 6390 entries, 0 to 6389\n",
      "Data columns (total 13 columns):\n",
      " #   Column          Non-Null Count  Dtype  \n",
      "---  ------          --------------  -----  \n",
      " 0   INDICATOR       6390 non-null   object \n",
      " 1   UNIT            6390 non-null   object \n",
      " 2   UNIT_NUM        6390 non-null   int64  \n",
      " 3   STUB_NAME       6390 non-null   object \n",
      " 4   STUB_NAME_NUM   6390 non-null   int64  \n",
      " 5   STUB_LABEL      6390 non-null   object \n",
      " 6   STUB_LABEL_NUM  6390 non-null   float64\n",
      " 7   YEAR            6390 non-null   int64  \n",
      " 8   YEAR_NUM        6390 non-null   int64  \n",
      " 9   AGE             6390 non-null   object \n",
      " 10  AGE_NUM         6390 non-null   float64\n",
      " 11  ESTIMATE        5484 non-null   float64\n",
      " 12  FLAG            906 non-null    object \n",
      "dtypes: float64(3), int64(4), object(6)\n",
      "memory usage: 649.1+ KB\n",
      "None\n",
      "(6390, 13)\n"
     ]
    }
   ],
   "source": [
    "URL = 'https://data.cdc.gov/api/views/9j2v-jamp/rows.csv?accessType=DOWNLOAD'\n",
    "\n",
    "df_raw = pd.read_csv(URL)\n",
    "df_raw.head()\n",
    "print(df_raw.info())\n",
    "print(df_raw.shape)"
   ]
  },
  {
   "cell_type": "code",
   "execution_count": null,
   "id": "198a35cb",
   "metadata": {},
   "outputs": [],
   "source": [
    "\n",
    "    "
   ]
  },
  {
   "cell_type": "code",
   "execution_count": 10,
   "id": "1eaf2915",
   "metadata": {},
   "outputs": [],
   "source": [
    "\n",
    "config_file_path = 'config.json'\n",
    "\n",
    "with open(config_file_path, 'r') as config_file:\n",
    "    config = json.load(config_file)\n",
    "    \n",
    "CONNECTION_STRING_AZURE_STORAGE = config[\"connectionString\"]\n",
    "CONTAINER_AZURE = 'deathratetwo'\n",
    "blob_name = \"deathratetwo.csv\"\n",
    "\n",
    "output = StringIO()\n",
    "df_raw.to_csv(output, index=False)\n",
    "data = output.getvalue()\n",
    "output.close()  "
   ]
  },
  {
   "cell_type": "code",
   "execution_count": null,
   "id": "1343a9f0",
   "metadata": {},
   "outputs": [],
   "source": []
  }
 ],
 "metadata": {
  "kernelspec": {
   "display_name": "Python 3 (ipykernel)",
   "language": "python",
   "name": "python3"
  },
  "language_info": {
   "codemirror_mode": {
    "name": "ipython",
    "version": 3
   },
   "file_extension": ".py",
   "mimetype": "text/x-python",
   "name": "python",
   "nbconvert_exporter": "python",
   "pygments_lexer": "ipython3",
   "version": "3.9.13"
  }
 },
 "nbformat": 4,
 "nbformat_minor": 5
}
