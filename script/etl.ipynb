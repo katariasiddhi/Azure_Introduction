{
 "cells": [
  {
   "cell_type": "code",
   "execution_count": 3,
   "metadata": {
    "colab": {
     "base_uri": "https://localhost:8080/"
    },
    "id": "gGiaS6Oh75pM",
    "outputId": "7ec57a58-f7b8-4d13-f83a-e303d6b1e75b"
   },
   "outputs": [
    {
     "name": "stdout",
     "output_type": "stream",
     "text": [
      "Collecting azure-storage-blob\n",
      "  Downloading azure_storage_blob-12.19.1-py3-none-any.whl (394 kB)\n",
      "\u001b[2K     \u001b[90m━━━━━━━━━━━━━━━━━━━━━━━━━━━━━━━━━━━━━━━━\u001b[0m \u001b[32m394.5/394.5 kB\u001b[0m \u001b[31m5.3 MB/s\u001b[0m eta \u001b[36m0:00:00\u001b[0m\n",
      "\u001b[?25hCollecting azure-core<2.0.0,>=1.28.0 (from azure-storage-blob)\n",
      "  Downloading azure_core-1.30.1-py3-none-any.whl (193 kB)\n",
      "\u001b[2K     \u001b[90m━━━━━━━━━━━━━━━━━━━━━━━━━━━━━━━━━━━━━━━━\u001b[0m \u001b[32m193.4/193.4 kB\u001b[0m \u001b[31m8.2 MB/s\u001b[0m eta \u001b[36m0:00:00\u001b[0m\n",
      "\u001b[?25hRequirement already satisfied: cryptography>=2.1.4 in /usr/local/lib/python3.10/dist-packages (from azure-storage-blob) (42.0.5)\n",
      "Requirement already satisfied: typing-extensions>=4.3.0 in /usr/local/lib/python3.10/dist-packages (from azure-storage-blob) (4.11.0)\n",
      "Collecting isodate>=0.6.1 (from azure-storage-blob)\n",
      "  Downloading isodate-0.6.1-py2.py3-none-any.whl (41 kB)\n",
      "\u001b[2K     \u001b[90m━━━━━━━━━━━━━━━━━━━━━━━━━━━━━━━━━━━━━━━━\u001b[0m \u001b[32m41.7/41.7 kB\u001b[0m \u001b[31m4.3 MB/s\u001b[0m eta \u001b[36m0:00:00\u001b[0m\n",
      "\u001b[?25hRequirement already satisfied: requests>=2.21.0 in /usr/local/lib/python3.10/dist-packages (from azure-core<2.0.0,>=1.28.0->azure-storage-blob) (2.31.0)\n",
      "Requirement already satisfied: six>=1.11.0 in /usr/local/lib/python3.10/dist-packages (from azure-core<2.0.0,>=1.28.0->azure-storage-blob) (1.16.0)\n",
      "Requirement already satisfied: cffi>=1.12 in /usr/local/lib/python3.10/dist-packages (from cryptography>=2.1.4->azure-storage-blob) (1.16.0)\n",
      "Requirement already satisfied: pycparser in /usr/local/lib/python3.10/dist-packages (from cffi>=1.12->cryptography>=2.1.4->azure-storage-blob) (2.22)\n",
      "Requirement already satisfied: charset-normalizer<4,>=2 in /usr/local/lib/python3.10/dist-packages (from requests>=2.21.0->azure-core<2.0.0,>=1.28.0->azure-storage-blob) (3.3.2)\n",
      "Requirement already satisfied: idna<4,>=2.5 in /usr/local/lib/python3.10/dist-packages (from requests>=2.21.0->azure-core<2.0.0,>=1.28.0->azure-storage-blob) (3.7)\n",
      "Requirement already satisfied: urllib3<3,>=1.21.1 in /usr/local/lib/python3.10/dist-packages (from requests>=2.21.0->azure-core<2.0.0,>=1.28.0->azure-storage-blob) (2.0.7)\n",
      "Requirement already satisfied: certifi>=2017.4.17 in /usr/local/lib/python3.10/dist-packages (from requests>=2.21.0->azure-core<2.0.0,>=1.28.0->azure-storage-blob) (2024.2.2)\n",
      "Installing collected packages: isodate, azure-core, azure-storage-blob\n",
      "Successfully installed azure-core-1.30.1 azure-storage-blob-12.19.1 isodate-0.6.1\n",
      "Requirement already satisfied: pyarrow in /usr/local/lib/python3.10/dist-packages (14.0.2)\n",
      "Requirement already satisfied: numpy>=1.16.6 in /usr/local/lib/python3.10/dist-packages (from pyarrow) (1.25.2)\n",
      "Requirement already satisfied: psycopg2 in /usr/local/lib/python3.10/dist-packages (2.9.9)\n",
      "Requirement already satisfied: sqlalchemy in /usr/local/lib/python3.10/dist-packages (2.0.29)\n",
      "Requirement already satisfied: typing-extensions>=4.6.0 in /usr/local/lib/python3.10/dist-packages (from sqlalchemy) (4.11.0)\n",
      "Requirement already satisfied: greenlet!=0.4.17 in /usr/local/lib/python3.10/dist-packages (from sqlalchemy) (3.0.3)\n"
     ]
    }
   ],
   "source": [
    "!pip install azure-storage-blob\n",
    "!pip install pyarrow\n",
    "!pip install psycopg2 sqlalchemy"
   ]
  },
  {
   "cell_type": "code",
   "execution_count": 9,
   "metadata": {
    "colab": {
     "base_uri": "https://localhost:8080/"
    },
    "id": "XgjnxtDD-Pbo",
    "outputId": "0f290095-a044-4755-c7a0-55968cdf897e"
   },
   "outputs": [
    {
     "name": "stdout",
     "output_type": "stream",
     "text": [
      "Requirement already satisfied: SQLAlchemy in /usr/local/lib/python3.10/dist-packages (2.0.29)\n",
      "Requirement already satisfied: typing-extensions>=4.6.0 in /usr/local/lib/python3.10/dist-packages (from SQLAlchemy) (4.11.0)\n",
      "Requirement already satisfied: greenlet!=0.4.17 in /usr/local/lib/python3.10/dist-packages (from SQLAlchemy) (3.0.3)\n"
     ]
    }
   ],
   "source": [
    "!pip install SQLAlchemy\n"
   ]
  },
  {
   "cell_type": "markdown",
   "metadata": {
    "id": "YyfxSkkr7-AZ"
   },
   "source": []
  },
  {
   "cell_type": "code",
   "execution_count": 4,
   "metadata": {
    "id": "AGT0EW6P8PaE"
   },
   "outputs": [],
   "source": [
    "import pandas as pd\n",
    "import numpy as np\n",
    "import json\n",
    "import requests\n",
    "from io import StringIO\n",
    "from azure.storage.blob import BlobServiceClient, BlobClient, ContainerClient\n",
    "from math import ceil\n",
    "import datetime\n",
    "import calendar"
   ]
  },
  {
   "cell_type": "code",
   "execution_count": 24,
   "metadata": {
    "colab": {
     "base_uri": "https://localhost:8080/"
    },
    "id": "M_6sPRad8P9n",
    "outputId": "41b212ce-a435-4018-ae31-ed31d2d19b96"
   },
   "outputs": [
    {
     "name": "stdout",
     "output_type": "stream",
     "text": [
      "<class 'pandas.core.frame.DataFrame'>\n",
      "RangeIndex: 6390 entries, 0 to 6389\n",
      "Data columns (total 13 columns):\n",
      " #   Column          Non-Null Count  Dtype  \n",
      "---  ------          --------------  -----  \n",
      " 0   INDICATOR       6390 non-null   object \n",
      " 1   UNIT            6390 non-null   object \n",
      " 2   UNIT_NUM        6390 non-null   int64  \n",
      " 3   STUB_NAME       6390 non-null   object \n",
      " 4   STUB_NAME_NUM   6390 non-null   int64  \n",
      " 5   STUB_LABEL      6390 non-null   object \n",
      " 6   STUB_LABEL_NUM  6390 non-null   float64\n",
      " 7   YEAR            6390 non-null   int64  \n",
      " 8   YEAR_NUM        6390 non-null   int64  \n",
      " 9   AGE             6390 non-null   object \n",
      " 10  AGE_NUM         6390 non-null   float64\n",
      " 11  ESTIMATE        5484 non-null   float64\n",
      " 12  FLAG            906 non-null    object \n",
      "dtypes: float64(3), int64(4), object(6)\n",
      "memory usage: 649.1+ KB\n",
      "None\n",
      "(6390, 13)\n"
     ]
    }
   ],
   "source": [
    "URL = 'https://data.cdc.gov/api/views/9j2v-jamp/rows.csv?accessType=DOWNLOAD'\n",
    "\n",
    "df_raw = pd.read_csv(URL)\n",
    "df_raw.head()\n",
    "print(df_raw.info())\n",
    "print(df_raw.shape)"
   ]
  },
  {
   "cell_type": "code",
   "execution_count": 29,
   "metadata": {
    "colab": {
     "base_uri": "https://localhost:8080/"
    },
    "id": "qs9deDhP8Tgp",
    "outputId": "d2c2ecaa-03e0-40d0-a5b9-39bca6a91193"
   },
   "outputs": [
    {
     "name": "stdout",
     "output_type": "stream",
     "text": [
      "Uploaded deathratetwo.csv to Azure Blob Storage in container deathratetwo.\n"
     ]
    }
   ],
   "source": [
    "import json\n",
    "from io import StringIO\n",
    "from azure.storage.blob import BlobServiceClient\n",
    "\n",
    "config = {\n",
    "    \"connectionString\": \"DefaultEndpointsProtocol=https;AccountName=stcis4400springev;AccountKey=ueJ5MFF2ZkPk0k1xgDLDEpJH4TyfhzgpoXyQwOFYfcoW5Cwtxmxvh+DTT7EMzFlvMCIv0N1C6bN1+AStug/Q+A==;EndpointSuffix=core.windows.net\"\n",
    "}\n",
    "\n",
    "config_file_path = 'config.json'\n",
    "\n",
    "with open(config_file_path, 'w') as config_file:\n",
    "    json.dump(config, config_file)\n",
    "\n",
    "CONNECTION_STRING_AZURE_STORAGE = config[\"connectionString\"]\n",
    "CONTAINER_AZURE = 'deathratetwo'\n",
    "blob_name = \"deathratetwo.csv\"\n",
    "\n",
    "output = StringIO()\n",
    "df_raw.to_csv(output, index=False)\n",
    "data = output.getvalue()\n",
    "output.close()\n",
    "\n",
    "blob_service_client = BlobServiceClient.from_connection_string(CONNECTION_STRING_AZURE_STORAGE)\n",
    "\n",
    "blob_client = blob_service_client.get_blob_client(container=CONTAINER_AZURE, blob=blob_name)\n",
    "\n",
    "blob_client.upload_blob(data, overwrite=True)\n",
    "\n",
    "print(f\"Uploaded {blob_name} to Azure Blob Storage in container {CONTAINER_AZURE}.\")\n"
   ]
  },
  {
   "cell_type": "markdown",
   "metadata": {
    "id": "R0pYiFSRA7it"
   },
   "source": [
    "config.json = {\n",
    "    \n",
    "    \"connectionString\": \"DefaultEndpointsProtocol=https;AccountName=stcis4400springev;AccountKey=ueJ5MFF2ZkPk0k1xgDLDEpJH4TyfhzgpoXyQwOFYfcoW5Cwtxmxvh+DTT7EMzFlvMCIv0N1C6bN1+AStug/Q+A==;EndpointSuffix=core.windows.net\"\n",
    "}"
   ]
  },
  {
   "cell_type": "code",
   "execution_count": 30,
   "metadata": {
    "colab": {
     "base_uri": "https://localhost:8080/"
    },
    "id": "r_gricgj8fB7",
    "outputId": "b0834c8b-8467-4586-cc3c-f364408ec34a"
   },
   "outputs": [
    {
     "name": "stdout",
     "output_type": "stream",
     "text": [
      "deathratetwo.csv\n",
      "(6390, 13)\n"
     ]
    }
   ],
   "source": [
    "config_file_path = 'config.json'\n",
    "\n",
    "with open(config_file_path, 'r') as config_file:\n",
    "    config = json.load(config_file)\n",
    "\n",
    "CONNECTION_STRING_AZURE_STORAGE = config[\"connectionString\"]\n",
    "CONTAINER_AZURE = 'deathratetwo'\n",
    "\n",
    "blob_service_client = BlobServiceClient.from_connection_string(CONNECTION_STRING_AZURE_STORAGE)\n",
    "\n",
    "container_client = blob_service_client.get_container_client(CONTAINER_AZURE)\n",
    "\n",
    "death_rate = pd.DataFrame()\n",
    "\n",
    "blob_list = container_client.list_blobs()\n",
    "for blob in blob_list:\n",
    "    print(blob.name)\n",
    "    blob_client = container_client.get_blob_client(blob=blob.name)\n",
    "    blob_data = blob_client.download_blob()\n",
    "    blob_content = blob_data.readall().decode('utf-8')\n",
    "    df = pd.read_csv(StringIO(blob_content))\n",
    "    print(df.shape)\n",
    "    death_rate_df = df.copy()\n"
   ]
  },
  {
   "cell_type": "code",
   "execution_count": 31,
   "metadata": {
    "colab": {
     "base_uri": "https://localhost:8080/"
    },
    "id": "6mWgddPc8heu",
    "outputId": "3637858b-d427-4d90-daa0-5bda9e706f64"
   },
   "outputs": [
    {
     "data": {
      "text/plain": [
       "Index(['INDICATOR', 'UNIT', 'UNIT_NUM', 'STUB_NAME', 'STUB_NAME_NUM',\n",
       "       'STUB_LABEL', 'STUB_LABEL_NUM', 'YEAR', 'YEAR_NUM', 'AGE', 'AGE_NUM',\n",
       "       'ESTIMATE', 'FLAG'],\n",
       "      dtype='object')"
      ]
     },
     "execution_count": 31,
     "metadata": {},
     "output_type": "execute_result"
    }
   ],
   "source": [
    "death_rate_df.columns\n"
   ]
  },
  {
   "cell_type": "code",
   "execution_count": 32,
   "metadata": {
    "colab": {
     "base_uri": "https://localhost:8080/",
     "height": 293
    },
    "id": "kjaXvWif8-2z",
    "outputId": "7a338b5a-5579-4460-f30b-b4487094b258"
   },
   "outputs": [
    {
     "data": {
      "application/vnd.google.colaboratory.intrinsic+json": {
       "summary": "{\n  \"name\": \"death_rate_df\",\n  \"rows\": 6390,\n  \"fields\": [\n    {\n      \"column\": \"INDICATOR\",\n      \"properties\": {\n        \"dtype\": \"category\",\n        \"num_unique_values\": 1,\n        \"samples\": [\n          \"Death rates for suicide\"\n        ],\n        \"semantic_type\": \"\",\n        \"description\": \"\"\n      }\n    },\n    {\n      \"column\": \"UNIT\",\n      \"properties\": {\n        \"dtype\": \"category\",\n        \"num_unique_values\": 2,\n        \"samples\": [\n          \"Deaths per 100,000 resident population, crude\"\n        ],\n        \"semantic_type\": \"\",\n        \"description\": \"\"\n      }\n    },\n    {\n      \"column\": \"UNIT_NUM\",\n      \"properties\": {\n        \"dtype\": \"number\",\n        \"std\": 0,\n        \"min\": 1,\n        \"max\": 2,\n        \"num_unique_values\": 2,\n        \"samples\": [\n          2\n        ],\n        \"semantic_type\": \"\",\n        \"description\": \"\"\n      }\n    },\n    {\n      \"column\": \"STUB_NAME\",\n      \"properties\": {\n        \"dtype\": \"category\",\n        \"num_unique_values\": 12,\n        \"samples\": [\n          \"Sex, age and race (Single race)\"\n        ],\n        \"semantic_type\": \"\",\n        \"description\": \"\"\n      }\n    },\n    {\n      \"column\": \"STUB_NAME_NUM\",\n      \"properties\": {\n        \"dtype\": \"number\",\n        \"std\": 2,\n        \"min\": 0,\n        \"max\": 11,\n        \"num_unique_values\": 12,\n        \"samples\": [\n          9\n        ],\n        \"semantic_type\": \"\",\n        \"description\": \"\"\n      }\n    },\n    {\n      \"column\": \"STUB_LABEL\",\n      \"properties\": {\n        \"dtype\": \"category\",\n        \"num_unique_values\": 161,\n        \"samples\": [\n          \"Male: Not Hispanic or Latino: American Indian or Alaska Native: 15-24 years\"\n        ],\n        \"semantic_type\": \"\",\n        \"description\": \"\"\n      }\n    },\n    {\n      \"column\": \"STUB_LABEL_NUM\",\n      \"properties\": {\n        \"dtype\": \"number\",\n        \"std\": 1.8296241006394134,\n        \"min\": 0.0,\n        \"max\": 7.235,\n        \"num_unique_values\": 161,\n        \"samples\": [\n          6.141\n        ],\n        \"semantic_type\": \"\",\n        \"description\": \"\"\n      }\n    },\n    {\n      \"column\": \"YEAR\",\n      \"properties\": {\n        \"dtype\": \"number\",\n        \"std\": 14,\n        \"min\": 1950,\n        \"max\": 2018,\n        \"num_unique_values\": 42,\n        \"samples\": [\n          2002\n        ],\n        \"semantic_type\": \"\",\n        \"description\": \"\"\n      }\n    },\n    {\n      \"column\": \"YEAR_NUM\",\n      \"properties\": {\n        \"dtype\": \"number\",\n        \"std\": 12,\n        \"min\": 1,\n        \"max\": 42,\n        \"num_unique_values\": 42,\n        \"samples\": [\n          26\n        ],\n        \"semantic_type\": \"\",\n        \"description\": \"\"\n      }\n    },\n    {\n      \"column\": \"AGE\",\n      \"properties\": {\n        \"dtype\": \"category\",\n        \"num_unique_values\": 15,\n        \"samples\": [\n          \"45-54 years\"\n        ],\n        \"semantic_type\": \"\",\n        \"description\": \"\"\n      }\n    },\n    {\n      \"column\": \"AGE_NUM\",\n      \"properties\": {\n        \"dtype\": \"number\",\n        \"std\": 1.9322800106739229,\n        \"min\": 0.0,\n        \"max\": 6.0,\n        \"num_unique_values\": 15,\n        \"samples\": [\n          4.1\n        ],\n        \"semantic_type\": \"\",\n        \"description\": \"\"\n      }\n    },\n    {\n      \"column\": \"ESTIMATE\",\n      \"properties\": {\n        \"dtype\": \"number\",\n        \"std\": 11.531805309076454,\n        \"min\": 0.3,\n        \"max\": 74.8,\n        \"num_unique_values\": 529,\n        \"samples\": [\n          7.8\n        ],\n        \"semantic_type\": \"\",\n        \"description\": \"\"\n      }\n    },\n    {\n      \"column\": \"FLAG\",\n      \"properties\": {\n        \"dtype\": \"category\",\n        \"num_unique_values\": 2,\n        \"samples\": [\n          \"*\"\n        ],\n        \"semantic_type\": \"\",\n        \"description\": \"\"\n      }\n    }\n  ]\n}",
       "type": "dataframe",
       "variable_name": "death_rate_df"
      },
      "text/html": [
       "\n",
       "  <div id=\"df-8b9c0f16-2110-4b43-b25c-3bbf5d072de6\" class=\"colab-df-container\">\n",
       "    <div>\n",
       "<style scoped>\n",
       "    .dataframe tbody tr th:only-of-type {\n",
       "        vertical-align: middle;\n",
       "    }\n",
       "\n",
       "    .dataframe tbody tr th {\n",
       "        vertical-align: top;\n",
       "    }\n",
       "\n",
       "    .dataframe thead th {\n",
       "        text-align: right;\n",
       "    }\n",
       "</style>\n",
       "<table border=\"1\" class=\"dataframe\">\n",
       "  <thead>\n",
       "    <tr style=\"text-align: right;\">\n",
       "      <th></th>\n",
       "      <th>INDICATOR</th>\n",
       "      <th>UNIT</th>\n",
       "      <th>UNIT_NUM</th>\n",
       "      <th>STUB_NAME</th>\n",
       "      <th>STUB_NAME_NUM</th>\n",
       "      <th>STUB_LABEL</th>\n",
       "      <th>STUB_LABEL_NUM</th>\n",
       "      <th>YEAR</th>\n",
       "      <th>YEAR_NUM</th>\n",
       "      <th>AGE</th>\n",
       "      <th>AGE_NUM</th>\n",
       "      <th>ESTIMATE</th>\n",
       "      <th>FLAG</th>\n",
       "    </tr>\n",
       "  </thead>\n",
       "  <tbody>\n",
       "    <tr>\n",
       "      <th>0</th>\n",
       "      <td>Death rates for suicide</td>\n",
       "      <td>Deaths per 100,000 resident population, age-ad...</td>\n",
       "      <td>1</td>\n",
       "      <td>Total</td>\n",
       "      <td>0</td>\n",
       "      <td>All persons</td>\n",
       "      <td>0.0</td>\n",
       "      <td>1950</td>\n",
       "      <td>1</td>\n",
       "      <td>All ages</td>\n",
       "      <td>0.0</td>\n",
       "      <td>13.2</td>\n",
       "      <td>NaN</td>\n",
       "    </tr>\n",
       "    <tr>\n",
       "      <th>1</th>\n",
       "      <td>Death rates for suicide</td>\n",
       "      <td>Deaths per 100,000 resident population, age-ad...</td>\n",
       "      <td>1</td>\n",
       "      <td>Total</td>\n",
       "      <td>0</td>\n",
       "      <td>All persons</td>\n",
       "      <td>0.0</td>\n",
       "      <td>1960</td>\n",
       "      <td>2</td>\n",
       "      <td>All ages</td>\n",
       "      <td>0.0</td>\n",
       "      <td>12.5</td>\n",
       "      <td>NaN</td>\n",
       "    </tr>\n",
       "    <tr>\n",
       "      <th>2</th>\n",
       "      <td>Death rates for suicide</td>\n",
       "      <td>Deaths per 100,000 resident population, age-ad...</td>\n",
       "      <td>1</td>\n",
       "      <td>Total</td>\n",
       "      <td>0</td>\n",
       "      <td>All persons</td>\n",
       "      <td>0.0</td>\n",
       "      <td>1970</td>\n",
       "      <td>3</td>\n",
       "      <td>All ages</td>\n",
       "      <td>0.0</td>\n",
       "      <td>13.1</td>\n",
       "      <td>NaN</td>\n",
       "    </tr>\n",
       "    <tr>\n",
       "      <th>3</th>\n",
       "      <td>Death rates for suicide</td>\n",
       "      <td>Deaths per 100,000 resident population, age-ad...</td>\n",
       "      <td>1</td>\n",
       "      <td>Total</td>\n",
       "      <td>0</td>\n",
       "      <td>All persons</td>\n",
       "      <td>0.0</td>\n",
       "      <td>1980</td>\n",
       "      <td>4</td>\n",
       "      <td>All ages</td>\n",
       "      <td>0.0</td>\n",
       "      <td>12.2</td>\n",
       "      <td>NaN</td>\n",
       "    </tr>\n",
       "    <tr>\n",
       "      <th>4</th>\n",
       "      <td>Death rates for suicide</td>\n",
       "      <td>Deaths per 100,000 resident population, age-ad...</td>\n",
       "      <td>1</td>\n",
       "      <td>Total</td>\n",
       "      <td>0</td>\n",
       "      <td>All persons</td>\n",
       "      <td>0.0</td>\n",
       "      <td>1981</td>\n",
       "      <td>5</td>\n",
       "      <td>All ages</td>\n",
       "      <td>0.0</td>\n",
       "      <td>12.3</td>\n",
       "      <td>NaN</td>\n",
       "    </tr>\n",
       "  </tbody>\n",
       "</table>\n",
       "</div>\n",
       "    <div class=\"colab-df-buttons\">\n",
       "\n",
       "  <div class=\"colab-df-container\">\n",
       "    <button class=\"colab-df-convert\" onclick=\"convertToInteractive('df-8b9c0f16-2110-4b43-b25c-3bbf5d072de6')\"\n",
       "            title=\"Convert this dataframe to an interactive table.\"\n",
       "            style=\"display:none;\">\n",
       "\n",
       "  <svg xmlns=\"http://www.w3.org/2000/svg\" height=\"24px\" viewBox=\"0 -960 960 960\">\n",
       "    <path d=\"M120-120v-720h720v720H120Zm60-500h600v-160H180v160Zm220 220h160v-160H400v160Zm0 220h160v-160H400v160ZM180-400h160v-160H180v160Zm440 0h160v-160H620v160ZM180-180h160v-160H180v160Zm440 0h160v-160H620v160Z\"/>\n",
       "  </svg>\n",
       "    </button>\n",
       "\n",
       "  <style>\n",
       "    .colab-df-container {\n",
       "      display:flex;\n",
       "      gap: 12px;\n",
       "    }\n",
       "\n",
       "    .colab-df-convert {\n",
       "      background-color: #E8F0FE;\n",
       "      border: none;\n",
       "      border-radius: 50%;\n",
       "      cursor: pointer;\n",
       "      display: none;\n",
       "      fill: #1967D2;\n",
       "      height: 32px;\n",
       "      padding: 0 0 0 0;\n",
       "      width: 32px;\n",
       "    }\n",
       "\n",
       "    .colab-df-convert:hover {\n",
       "      background-color: #E2EBFA;\n",
       "      box-shadow: 0px 1px 2px rgba(60, 64, 67, 0.3), 0px 1px 3px 1px rgba(60, 64, 67, 0.15);\n",
       "      fill: #174EA6;\n",
       "    }\n",
       "\n",
       "    .colab-df-buttons div {\n",
       "      margin-bottom: 4px;\n",
       "    }\n",
       "\n",
       "    [theme=dark] .colab-df-convert {\n",
       "      background-color: #3B4455;\n",
       "      fill: #D2E3FC;\n",
       "    }\n",
       "\n",
       "    [theme=dark] .colab-df-convert:hover {\n",
       "      background-color: #434B5C;\n",
       "      box-shadow: 0px 1px 3px 1px rgba(0, 0, 0, 0.15);\n",
       "      filter: drop-shadow(0px 1px 2px rgba(0, 0, 0, 0.3));\n",
       "      fill: #FFFFFF;\n",
       "    }\n",
       "  </style>\n",
       "\n",
       "    <script>\n",
       "      const buttonEl =\n",
       "        document.querySelector('#df-8b9c0f16-2110-4b43-b25c-3bbf5d072de6 button.colab-df-convert');\n",
       "      buttonEl.style.display =\n",
       "        google.colab.kernel.accessAllowed ? 'block' : 'none';\n",
       "\n",
       "      async function convertToInteractive(key) {\n",
       "        const element = document.querySelector('#df-8b9c0f16-2110-4b43-b25c-3bbf5d072de6');\n",
       "        const dataTable =\n",
       "          await google.colab.kernel.invokeFunction('convertToInteractive',\n",
       "                                                    [key], {});\n",
       "        if (!dataTable) return;\n",
       "\n",
       "        const docLinkHtml = 'Like what you see? Visit the ' +\n",
       "          '<a target=\"_blank\" href=https://colab.research.google.com/notebooks/data_table.ipynb>data table notebook</a>'\n",
       "          + ' to learn more about interactive tables.';\n",
       "        element.innerHTML = '';\n",
       "        dataTable['output_type'] = 'display_data';\n",
       "        await google.colab.output.renderOutput(dataTable, element);\n",
       "        const docLink = document.createElement('div');\n",
       "        docLink.innerHTML = docLinkHtml;\n",
       "        element.appendChild(docLink);\n",
       "      }\n",
       "    </script>\n",
       "  </div>\n",
       "\n",
       "\n",
       "<div id=\"df-9b0c011f-4005-4dad-bc66-d74f64952987\">\n",
       "  <button class=\"colab-df-quickchart\" onclick=\"quickchart('df-9b0c011f-4005-4dad-bc66-d74f64952987')\"\n",
       "            title=\"Suggest charts\"\n",
       "            style=\"display:none;\">\n",
       "\n",
       "<svg xmlns=\"http://www.w3.org/2000/svg\" height=\"24px\"viewBox=\"0 0 24 24\"\n",
       "     width=\"24px\">\n",
       "    <g>\n",
       "        <path d=\"M19 3H5c-1.1 0-2 .9-2 2v14c0 1.1.9 2 2 2h14c1.1 0 2-.9 2-2V5c0-1.1-.9-2-2-2zM9 17H7v-7h2v7zm4 0h-2V7h2v10zm4 0h-2v-4h2v4z\"/>\n",
       "    </g>\n",
       "</svg>\n",
       "  </button>\n",
       "\n",
       "<style>\n",
       "  .colab-df-quickchart {\n",
       "      --bg-color: #E8F0FE;\n",
       "      --fill-color: #1967D2;\n",
       "      --hover-bg-color: #E2EBFA;\n",
       "      --hover-fill-color: #174EA6;\n",
       "      --disabled-fill-color: #AAA;\n",
       "      --disabled-bg-color: #DDD;\n",
       "  }\n",
       "\n",
       "  [theme=dark] .colab-df-quickchart {\n",
       "      --bg-color: #3B4455;\n",
       "      --fill-color: #D2E3FC;\n",
       "      --hover-bg-color: #434B5C;\n",
       "      --hover-fill-color: #FFFFFF;\n",
       "      --disabled-bg-color: #3B4455;\n",
       "      --disabled-fill-color: #666;\n",
       "  }\n",
       "\n",
       "  .colab-df-quickchart {\n",
       "    background-color: var(--bg-color);\n",
       "    border: none;\n",
       "    border-radius: 50%;\n",
       "    cursor: pointer;\n",
       "    display: none;\n",
       "    fill: var(--fill-color);\n",
       "    height: 32px;\n",
       "    padding: 0;\n",
       "    width: 32px;\n",
       "  }\n",
       "\n",
       "  .colab-df-quickchart:hover {\n",
       "    background-color: var(--hover-bg-color);\n",
       "    box-shadow: 0 1px 2px rgba(60, 64, 67, 0.3), 0 1px 3px 1px rgba(60, 64, 67, 0.15);\n",
       "    fill: var(--button-hover-fill-color);\n",
       "  }\n",
       "\n",
       "  .colab-df-quickchart-complete:disabled,\n",
       "  .colab-df-quickchart-complete:disabled:hover {\n",
       "    background-color: var(--disabled-bg-color);\n",
       "    fill: var(--disabled-fill-color);\n",
       "    box-shadow: none;\n",
       "  }\n",
       "\n",
       "  .colab-df-spinner {\n",
       "    border: 2px solid var(--fill-color);\n",
       "    border-color: transparent;\n",
       "    border-bottom-color: var(--fill-color);\n",
       "    animation:\n",
       "      spin 1s steps(1) infinite;\n",
       "  }\n",
       "\n",
       "  @keyframes spin {\n",
       "    0% {\n",
       "      border-color: transparent;\n",
       "      border-bottom-color: var(--fill-color);\n",
       "      border-left-color: var(--fill-color);\n",
       "    }\n",
       "    20% {\n",
       "      border-color: transparent;\n",
       "      border-left-color: var(--fill-color);\n",
       "      border-top-color: var(--fill-color);\n",
       "    }\n",
       "    30% {\n",
       "      border-color: transparent;\n",
       "      border-left-color: var(--fill-color);\n",
       "      border-top-color: var(--fill-color);\n",
       "      border-right-color: var(--fill-color);\n",
       "    }\n",
       "    40% {\n",
       "      border-color: transparent;\n",
       "      border-right-color: var(--fill-color);\n",
       "      border-top-color: var(--fill-color);\n",
       "    }\n",
       "    60% {\n",
       "      border-color: transparent;\n",
       "      border-right-color: var(--fill-color);\n",
       "    }\n",
       "    80% {\n",
       "      border-color: transparent;\n",
       "      border-right-color: var(--fill-color);\n",
       "      border-bottom-color: var(--fill-color);\n",
       "    }\n",
       "    90% {\n",
       "      border-color: transparent;\n",
       "      border-bottom-color: var(--fill-color);\n",
       "    }\n",
       "  }\n",
       "</style>\n",
       "\n",
       "  <script>\n",
       "    async function quickchart(key) {\n",
       "      const quickchartButtonEl =\n",
       "        document.querySelector('#' + key + ' button');\n",
       "      quickchartButtonEl.disabled = true;  // To prevent multiple clicks.\n",
       "      quickchartButtonEl.classList.add('colab-df-spinner');\n",
       "      try {\n",
       "        const charts = await google.colab.kernel.invokeFunction(\n",
       "            'suggestCharts', [key], {});\n",
       "      } catch (error) {\n",
       "        console.error('Error during call to suggestCharts:', error);\n",
       "      }\n",
       "      quickchartButtonEl.classList.remove('colab-df-spinner');\n",
       "      quickchartButtonEl.classList.add('colab-df-quickchart-complete');\n",
       "    }\n",
       "    (() => {\n",
       "      let quickchartButtonEl =\n",
       "        document.querySelector('#df-9b0c011f-4005-4dad-bc66-d74f64952987 button');\n",
       "      quickchartButtonEl.style.display =\n",
       "        google.colab.kernel.accessAllowed ? 'block' : 'none';\n",
       "    })();\n",
       "  </script>\n",
       "</div>\n",
       "\n",
       "    </div>\n",
       "  </div>\n"
      ],
      "text/plain": [
       "                 INDICATOR                                               UNIT  \\\n",
       "0  Death rates for suicide  Deaths per 100,000 resident population, age-ad...   \n",
       "1  Death rates for suicide  Deaths per 100,000 resident population, age-ad...   \n",
       "2  Death rates for suicide  Deaths per 100,000 resident population, age-ad...   \n",
       "3  Death rates for suicide  Deaths per 100,000 resident population, age-ad...   \n",
       "4  Death rates for suicide  Deaths per 100,000 resident population, age-ad...   \n",
       "\n",
       "   UNIT_NUM STUB_NAME  STUB_NAME_NUM   STUB_LABEL  STUB_LABEL_NUM  YEAR  \\\n",
       "0         1     Total              0  All persons             0.0  1950   \n",
       "1         1     Total              0  All persons             0.0  1960   \n",
       "2         1     Total              0  All persons             0.0  1970   \n",
       "3         1     Total              0  All persons             0.0  1980   \n",
       "4         1     Total              0  All persons             0.0  1981   \n",
       "\n",
       "   YEAR_NUM       AGE  AGE_NUM  ESTIMATE FLAG  \n",
       "0         1  All ages      0.0      13.2  NaN  \n",
       "1         2  All ages      0.0      12.5  NaN  \n",
       "2         3  All ages      0.0      13.1  NaN  \n",
       "3         4  All ages      0.0      12.2  NaN  \n",
       "4         5  All ages      0.0      12.3  NaN  "
      ]
     },
     "execution_count": 32,
     "metadata": {},
     "output_type": "execute_result"
    }
   ],
   "source": [
    "death_rate_df.head()"
   ]
  },
  {
   "cell_type": "markdown",
   "metadata": {
    "id": "fAQNnWPx9t7p"
   },
   "source": []
  },
  {
   "cell_type": "code",
   "execution_count": 33,
   "metadata": {
    "colab": {
     "base_uri": "https://localhost:8080/"
    },
    "id": "RR8F-5Rt9GJO",
    "outputId": "e661e9ad-e7c8-4665-d693-27355258ab4c"
   },
   "outputs": [
    {
     "name": "stdout",
     "output_type": "stream",
     "text": [
      "                 Indicator  Year  YEAR_NUM       Age  AGE_NUM  Death_rate\n",
      "0  Death rates for suicide  1950         1  All ages      0.0        13.2\n",
      "1  Death rates for suicide  1960         2  All ages      0.0        12.5\n",
      "2  Death rates for suicide  1970         3  All ages      0.0        13.1\n",
      "3  Death rates for suicide  1980         4  All ages      0.0        12.2\n",
      "4  Death rates for suicide  1981         5  All ages      0.0        12.3\n"
     ]
    }
   ],
   "source": [
    "columns_to_drop = ['UNIT', 'UNIT_NUM', 'STUB_NAME', 'STUB_NAME_NUM', 'STUB_LABEL', 'STUB_LABEL_NUM', 'FLAG']\n",
    "cleaned_df = death_rate_df.drop(columns=columns_to_drop)\n",
    "\n",
    "cleaned_df['YEAR'] = cleaned_df['YEAR'].astype(int)\n",
    "cleaned_df['AGE'] = cleaned_df['AGE'].astype(str)\n",
    "\n",
    "cleaned_df.rename(columns={'INDICATOR': 'Indicator', 'YEAR': 'Year', 'AGE': 'Age', 'ESTIMATE': 'Death_rate'}, inplace=True)\n",
    "\n",
    "cleaned_df = cleaned_df.dropna(subset=['Death_rate'])\n",
    "\n",
    "cleaned_df.reset_index(drop=True, inplace=True)\n",
    "\n",
    "print(cleaned_df.head())\n"
   ]
  },
  {
   "cell_type": "markdown",
   "metadata": {
    "id": "TvY8s7B6-CBj"
   },
   "source": []
  },
  {
   "cell_type": "code",
   "execution_count": 34,
   "metadata": {
    "colab": {
     "base_uri": "https://localhost:8080/"
    },
    "id": "LoVoxXGA_5m2",
    "outputId": "1eb15222-fe1a-4630-c9bd-638712d8e725"
   },
   "outputs": [
    {
     "name": "stdout",
     "output_type": "stream",
     "text": [
      "                 INDICATOR                                               UNIT  \\\n",
      "0  Death rates for suicide  Deaths per 100,000 resident population, age-ad...   \n",
      "1  Death rates for suicide  Deaths per 100,000 resident population, age-ad...   \n",
      "2  Death rates for suicide  Deaths per 100,000 resident population, age-ad...   \n",
      "3  Death rates for suicide  Deaths per 100,000 resident population, age-ad...   \n",
      "4  Death rates for suicide  Deaths per 100,000 resident population, age-ad...   \n",
      "\n",
      "   UNIT_NUM STUB_NAME  STUB_NAME_NUM   STUB_LABEL  STUB_LABEL_NUM  YEAR  \\\n",
      "0         1     Total              0  All persons             0.0  1950   \n",
      "1         1     Total              0  All persons             0.0  1960   \n",
      "2         1     Total              0  All persons             0.0  1970   \n",
      "3         1     Total              0  All persons             0.0  1980   \n",
      "4         1     Total              0  All persons             0.0  1981   \n",
      "\n",
      "   YEAR_NUM       AGE  AGE_NUM  ESTIMATE FLAG Age_Group  \n",
      "0         1  All ages      0.0      13.2  NaN   Unknown  \n",
      "1         2  All ages      0.0      12.5  NaN   Unknown  \n",
      "2         3  All ages      0.0      13.1  NaN   Unknown  \n",
      "3         4  All ages      0.0      12.2  NaN   Unknown  \n",
      "4         5  All ages      0.0      12.3  NaN   Unknown  \n"
     ]
    }
   ],
   "source": [
    "import pandas as pd\n",
    "\n",
    "\n",
    "\n",
    "age_groups = {\n",
    "    '0-14': ['0', '1', '2', '3', '4'],\n",
    "    '15-24': ['5', '6', '7', '8', '9'],\n",
    "    '25-44': ['10', '11', '12', '13'],\n",
    "    '45-64': ['14', '15', '16', '17'],\n",
    "    '65+': ['18', '19', '20', '21', '22', '23', '24', '25', '26', '27', '28', '29', '30', '31', '32', '33', '34', '35', '36', '37', '38', '39', '40', '41', '42', '43', '44', '45', '46', '47', '48', '49', '50', '51', '52', '53', '54', '55', '56', '57', '58', '59', '60', '61', '62', '63', '64', '65', '66', '67', '68', '69', '70', '71', '72', '73', '74', '75', '76', '77', '78', '79', '80', '81', '82', '83', '84', '85', '86', '87', '88', '89', '90', '91', '92', '93', '94', '95', '96', '97', '98', '99', '100']\n",
    "}\n",
    "\n",
    "def map_age_to_group(age):\n",
    "    for group, age_range in age_groups.items():\n",
    "        if age in age_range:\n",
    "            return group\n",
    "    return 'Unknown'\n",
    "\n",
    "death_rate_df['Age_Group'] = death_rate_df['AGE_NUM'].apply(map_age_to_group)\n",
    "\n",
    "print(death_rate_df.head())\n"
   ]
  },
  {
   "cell_type": "code",
   "execution_count": 35,
   "metadata": {
    "colab": {
     "base_uri": "https://localhost:8080/"
    },
    "id": "QsEBfVbBAroM",
    "outputId": "593f247f-fb31-4f5e-e294-082040ee6840"
   },
   "outputs": [
    {
     "name": "stdout",
     "output_type": "stream",
     "text": [
      "                 Indicator  Year  YEAR_NUM       Age  AGE_NUM  Death_rate  \\\n",
      "0  Death rates for suicide  1950         1  All ages      0.0        13.2   \n",
      "1  Death rates for suicide  1960         2  All ages      0.0        12.5   \n",
      "2  Death rates for suicide  1970         3  All ages      0.0        13.1   \n",
      "3  Death rates for suicide  1980         4  All ages      0.0        12.2   \n",
      "4  Death rates for suicide  1981         5  All ages      0.0        12.3   \n",
      "\n",
      "    Year_Group  \n",
      "0  Before 1980  \n",
      "1  Before 1980  \n",
      "2  Before 1980  \n",
      "3  Before 1980  \n",
      "4  Before 1980  \n"
     ]
    }
   ],
   "source": [
    "def map_year_to_group(year):\n",
    "    if year < 1980:\n",
    "        return 'Before 1980'\n",
    "    elif 1980 <= year < 2000:\n",
    "        return '1980-1999'\n",
    "    elif 2000 <= year < 2020:\n",
    "        return '2000-2019'\n",
    "    else:\n",
    "        return '2020 and later'\n",
    "\n",
    "cleaned_df['Year_Group'] = cleaned_df['YEAR_NUM'].apply(map_year_to_group)\n",
    "\n",
    "print(cleaned_df.head())\n"
   ]
  },
  {
   "cell_type": "code",
   "execution_count": 19,
   "metadata": {
    "colab": {
     "base_uri": "https://localhost:8080/"
    },
    "id": "WB0ZVZqc_6El",
    "outputId": "591c463c-ee0e-49bb-f3e1-893dc435c0b7"
   },
   "outputs": [
    {
     "name": "stdout",
     "output_type": "stream",
     "text": [
      "Index(['Indicator', 'Year', 'YEAR_NUM', 'Age', 'AGE_NUM', 'Death_rate',\n",
      "       'Suicide Rate'],\n",
      "      dtype='object')\n"
     ]
    }
   ],
   "source": [
    "print(cleaned_df.columns)\n"
   ]
  },
  {
   "cell_type": "code",
   "execution_count": 25,
   "metadata": {
    "colab": {
     "base_uri": "https://localhost:8080/"
    },
    "id": "KTVByne5BXrC",
    "outputId": "8b1f675a-f57d-48c8-a4cd-d38bd60c2a7c"
   },
   "outputs": [
    {
     "name": "stdout",
     "output_type": "stream",
     "text": [
      "                 Indicator  Year  YEAR_NUM       Age  AGE_NUM  Death_rate  \\\n",
      "0  Death rates for suicide  1950         1  All ages      0.0        13.2   \n",
      "1  Death rates for suicide  1960         2  All ages      0.0        12.5   \n",
      "2  Death rates for suicide  1970         3  All ages      0.0        13.1   \n",
      "3  Death rates for suicide  1980         4  All ages      0.0        12.2   \n",
      "4  Death rates for suicide  1981         5  All ages      0.0        12.3   \n",
      "\n",
      "  Suicide Rate   Year_Group Indicator_Group  \n",
      "0         High  Before 1980         Suicide  \n",
      "1         High  Before 1980         Suicide  \n",
      "2         High  Before 1980         Suicide  \n",
      "3         High  Before 1980         Suicide  \n",
      "4         High  Before 1980         Suicide  \n"
     ]
    }
   ],
   "source": [
    "def map_indicator_to_group(indicator):\n",
    "    if 'suicide' in indicator.lower():\n",
    "        return 'Suicide'\n",
    "    else:\n",
    "        return 'Other'\n",
    "\n",
    "cleaned_df['Indicator_Group'] = cleaned_df['Indicator'].apply(map_indicator_to_group)\n",
    "\n",
    "print(cleaned_df.head())\n",
    "\n"
   ]
  },
  {
   "cell_type": "code",
   "execution_count": 36,
   "metadata": {
    "colab": {
     "base_uri": "https://localhost:8080/",
     "height": 216
    },
    "id": "XltjWnXrBvN0",
    "outputId": "9b3644fb-0b81-4b6d-dfd5-f0e981ec1b25"
   },
   "outputs": [
    {
     "ename": "AttributeError",
     "evalue": "module 'pandas' has no attribute 'to_datetine'",
     "output_type": "error",
     "traceback": [
      "\u001b[0;31m---------------------------------------------------------------------------\u001b[0m",
      "\u001b[0;31mAttributeError\u001b[0m                            Traceback (most recent call last)",
      "\u001b[0;32m<ipython-input-36-4cae4db6df6c>\u001b[0m in \u001b[0;36m<cell line: 10>\u001b[0;34m()\u001b[0m\n\u001b[1;32m      8\u001b[0m   \u001b[0;32mreturn\u001b[0m \u001b[0mweek_number\u001b[0m\u001b[0;34m\u001b[0m\u001b[0;34m\u001b[0m\u001b[0m\n\u001b[1;32m      9\u001b[0m \u001b[0;34m\u001b[0m\u001b[0m\n\u001b[0;32m---> 10\u001b[0;31m \u001b[0mstart_date\u001b[0m \u001b[0;34m=\u001b[0m \u001b[0mpd\u001b[0m\u001b[0;34m.\u001b[0m\u001b[0mto_datetine\u001b[0m \u001b[0;34m(\u001b[0m\u001b[0;34m'2024-01-01'\u001b[0m\u001b[0;34m)\u001b[0m\u001b[0;34m\u001b[0m\u001b[0;34m\u001b[0m\u001b[0m\n\u001b[0m\u001b[1;32m     11\u001b[0m \u001b[0mend_late\u001b[0m \u001b[0;34m=\u001b[0m \u001b[0mpd\u001b[0m\u001b[0;34m.\u001b[0m\u001b[0mto_datetine\u001b[0m\u001b[0;34m(\u001b[0m\u001b[0;34m'2024-02-01'\u001b[0m\u001b[0;34m)\u001b[0m\u001b[0;34m\u001b[0m\u001b[0;34m\u001b[0m\u001b[0m\n\u001b[1;32m     12\u001b[0m \u001b[0;34m\u001b[0m\u001b[0m\n",
      "\u001b[0;31mAttributeError\u001b[0m: module 'pandas' has no attribute 'to_datetine'"
     ]
    }
   ],
   "source": [
    "def week_of_month(dt):\n",
    "  year = dt.year\n",
    "  month = dt. month\n",
    "  day = dt.day\n",
    "\n",
    "  cal = calendar.monthcalendar(year, month)\n",
    "  week_number = (day - 1) // 7 + 1\n",
    "  return week_number\n",
    "\n",
    "start_date = pd.to_datetine ('2024-01-01')\n",
    "end_late = pd.to_datetine('2024-02-01')\n",
    "\n",
    "date_dimension = pd.Dataframe({'date': pd.date_range(start_date, end_date, freq='H')})\n",
    "\n",
    "date_dimension.head(25)\n",
    "\n",
    "date_dimension['year _number'] = date_dinension[\"date\"].dt.year\n",
    "date_dinension['quarter_number'] = date_dimension ['date'].dt.quarter\n",
    "date_dimension['month_number'] = date_dimension['date'].dt.month\n",
    "date_dimension['monthName'] = date_dimension['date'].dt.strftine(\"%B\")\n",
    "date_dimension['daynumber'] = date_dinension['date'].dt.day\n",
    "date_dimension['dayName'] = date_dimension['date'].dt.strftine('%A')\n",
    "date_dimension['hour_number'] = date_dimension[\"date\"].dt.hour\n",
    "date_dimension['date_iso_format'] = date_dimension['date'].apply(lambda x: x.isoformat())\n",
    "date_dimension['date_id'] = date_dimension['date'].dt.strftine ('%Y%m%d%H')\n",
    "\n",
    "date_dimension['weekofMonth'] = date_dimension[\"date\"].apply(week_of_month)\n",
    "date_dimension['weekofYear'] = date_dimension ['date'].dt.strftine(\"%U\")"
   ]
  },
  {
   "cell_type": "code",
   "execution_count": 37,
   "metadata": {
    "colab": {
     "base_uri": "https://localhost:8080/"
    },
    "id": "sqdZbL9fCPTN",
    "outputId": "005d94f3-6871-45ff-d7d4-c142697066a9"
   },
   "outputs": [
    {
     "name": "stdout",
     "output_type": "stream",
     "text": [
      "       date_id      date_iso_format  year_number  quarter_number  \\\n",
      "0   2024010100  2024-01-01T00:00:00         2024               1   \n",
      "1   2024010101  2024-01-01T01:00:00         2024               1   \n",
      "2   2024010102  2024-01-01T02:00:00         2024               1   \n",
      "3   2024010103  2024-01-01T03:00:00         2024               1   \n",
      "4   2024010104  2024-01-01T04:00:00         2024               1   \n",
      "5   2024010105  2024-01-01T05:00:00         2024               1   \n",
      "6   2024010106  2024-01-01T06:00:00         2024               1   \n",
      "7   2024010107  2024-01-01T07:00:00         2024               1   \n",
      "8   2024010108  2024-01-01T08:00:00         2024               1   \n",
      "9   2024010109  2024-01-01T09:00:00         2024               1   \n",
      "10  2024010110  2024-01-01T10:00:00         2024               1   \n",
      "11  2024010111  2024-01-01T11:00:00         2024               1   \n",
      "12  2024010112  2024-01-01T12:00:00         2024               1   \n",
      "13  2024010113  2024-01-01T13:00:00         2024               1   \n",
      "14  2024010114  2024-01-01T14:00:00         2024               1   \n",
      "15  2024010115  2024-01-01T15:00:00         2024               1   \n",
      "16  2024010116  2024-01-01T16:00:00         2024               1   \n",
      "17  2024010117  2024-01-01T17:00:00         2024               1   \n",
      "18  2024010118  2024-01-01T18:00:00         2024               1   \n",
      "19  2024010119  2024-01-01T19:00:00         2024               1   \n",
      "20  2024010120  2024-01-01T20:00:00         2024               1   \n",
      "21  2024010121  2024-01-01T21:00:00         2024               1   \n",
      "22  2024010122  2024-01-01T22:00:00         2024               1   \n",
      "23  2024010123  2024-01-01T23:00:00         2024               1   \n",
      "24  2024010200  2024-01-02T00:00:00         2024               1   \n",
      "\n",
      "    month_number  day_number  hour_number monthName  dayName week_of_year  \\\n",
      "0              1           1            0   January   Monday           00   \n",
      "1              1           1            1   January   Monday           00   \n",
      "2              1           1            2   January   Monday           00   \n",
      "3              1           1            3   January   Monday           00   \n",
      "4              1           1            4   January   Monday           00   \n",
      "5              1           1            5   January   Monday           00   \n",
      "6              1           1            6   January   Monday           00   \n",
      "7              1           1            7   January   Monday           00   \n",
      "8              1           1            8   January   Monday           00   \n",
      "9              1           1            9   January   Monday           00   \n",
      "10             1           1           10   January   Monday           00   \n",
      "11             1           1           11   January   Monday           00   \n",
      "12             1           1           12   January   Monday           00   \n",
      "13             1           1           13   January   Monday           00   \n",
      "14             1           1           14   January   Monday           00   \n",
      "15             1           1           15   January   Monday           00   \n",
      "16             1           1           16   January   Monday           00   \n",
      "17             1           1           17   January   Monday           00   \n",
      "18             1           1           18   January   Monday           00   \n",
      "19             1           1           19   January   Monday           00   \n",
      "20             1           1           20   January   Monday           00   \n",
      "21             1           1           21   January   Monday           00   \n",
      "22             1           1           22   January   Monday           00   \n",
      "23             1           1           23   January   Monday           00   \n",
      "24             1           2            0   January  Tuesday           00   \n",
      "\n",
      "    week_of_month  \n",
      "0               1  \n",
      "1               1  \n",
      "2               1  \n",
      "3               1  \n",
      "4               1  \n",
      "5               1  \n",
      "6               1  \n",
      "7               1  \n",
      "8               1  \n",
      "9               1  \n",
      "10              1  \n",
      "11              1  \n",
      "12              1  \n",
      "13              1  \n",
      "14              1  \n",
      "15              1  \n",
      "16              1  \n",
      "17              1  \n",
      "18              1  \n",
      "19              1  \n",
      "20              1  \n",
      "21              1  \n",
      "22              1  \n",
      "23              1  \n",
      "24              1  \n"
     ]
    }
   ],
   "source": [
    "import pandas as pd\n",
    "import calendar\n",
    "\n",
    "def week_of_month(dt):\n",
    "    year = dt.year\n",
    "    month = dt.month\n",
    "    day = dt.day\n",
    "\n",
    "    cal = calendar.monthcalendar(year, month)\n",
    "    week_number = (day - 1) // 7 + 1\n",
    "    return week_number\n",
    "\n",
    "start_date = pd.to_datetime('2024-01-01')\n",
    "end_date = pd.to_datetime('2024-02-01')\n",
    "\n",
    "date_dimension = pd.DataFrame({'date': pd.date_range(start_date, end_date, freq='H')})\n",
    "\n",
    "date_dimension['year_number'] = date_dimension[\"date\"].dt.year\n",
    "date_dimension['quarter_number'] = date_dimension[\"date\"].dt.quarter\n",
    "date_dimension['month_number'] = date_dimension[\"date\"].dt.month\n",
    "date_dimension['monthName'] = date_dimension[\"date\"].dt.strftime(\"%B\")\n",
    "date_dimension['day_number'] = date_dimension[\"date\"].dt.day\n",
    "date_dimension['dayName'] = date_dimension[\"date\"].dt.strftime('%A')\n",
    "date_dimension['hour_number'] = date_dimension[\"date\"].dt.hour\n",
    "date_dimension['date_iso_format'] = date_dimension[\"date\"].apply(lambda x: x.isoformat())\n",
    "date_dimension['date_id'] = date_dimension[\"date\"].dt.strftime('%Y%m%d%H')\n",
    "\n",
    "date_dimension['week_of_month'] = date_dimension[\"date\"].apply(week_of_month)\n",
    "date_dimension['week_of_year'] = date_dimension[\"date\"].dt.strftime(\"%U\")\n",
    "\n",
    "new_order = ['date_id', 'date_iso_format', 'year_number', 'quarter_number', 'month_number', 'day_number', 'hour_number', 'monthName', 'dayName', 'week_of_year', 'week_of_month']\n",
    "date_dimension = date_dimension[new_order]\n",
    "print(date_dimension.head(25))\n"
   ]
  },
  {
   "cell_type": "code",
   "execution_count": 38,
   "metadata": {
    "colab": {
     "base_uri": "https://localhost:8080/"
    },
    "id": "JvWJsNrjDZKx",
    "outputId": "87f0ccfc-1778-4d19-e3ff-47277f7db3a4"
   },
   "outputs": [
    {
     "name": "stdout",
     "output_type": "stream",
     "text": [
      "                 INDICATOR                                               UNIT  \\\n",
      "0  Death rates for suicide  Deaths per 100,000 resident population, age-ad...   \n",
      "1  Death rates for suicide  Deaths per 100,000 resident population, age-ad...   \n",
      "2  Death rates for suicide  Deaths per 100,000 resident population, age-ad...   \n",
      "3  Death rates for suicide  Deaths per 100,000 resident population, age-ad...   \n",
      "4  Death rates for suicide  Deaths per 100,000 resident population, age-ad...   \n",
      "\n",
      "   UNIT_NUM STUB_NAME  STUB_NAME_NUM   STUB_LABEL  STUB_LABEL_NUM  YEAR  \\\n",
      "0         1     Total              0  All persons             0.0  1950   \n",
      "1         1     Total              0  All persons             0.0  1960   \n",
      "2         1     Total              0  All persons             0.0  1970   \n",
      "3         1     Total              0  All persons             0.0  1980   \n",
      "4         1     Total              0  All persons             0.0  1981   \n",
      "\n",
      "   Year_Number       AGE  Age_Group_Number  ESTIMATE FLAG Age_Group  \n",
      "0            1  All ages               0.0      13.2  NaN   Unknown  \n",
      "1            2  All ages               0.0      12.5  NaN   Unknown  \n",
      "2            3  All ages               0.0      13.1  NaN   Unknown  \n",
      "3            4  All ages               0.0      12.2  NaN   Unknown  \n",
      "4            5  All ages               0.0      12.3  NaN   Unknown  \n"
     ]
    }
   ],
   "source": [
    "import pandas as pd\n",
    "\n",
    "\n",
    "column_mapping = {\n",
    "    'Indicator': 'Indicator_Name',\n",
    "    'Year': 'Year',\n",
    "    'YEAR_NUM': 'Year_Number',\n",
    "    'Age': 'Age_Group',\n",
    "    'AGE_NUM': 'Age_Group_Number',\n",
    "    'Death_rate': 'Death_Rate',\n",
    "    'Suicide Rate': 'Suicide_Rate'\n",
    "}\n",
    "\n",
    "death_rate_df = death_rate_df.rename(columns=column_mapping)\n",
    "\n",
    "print(death_rate_df.head())\n"
   ]
  },
  {
   "cell_type": "code",
   "execution_count": 1,
   "metadata": {
    "id": "TXrInvMjKA_O"
   },
   "outputs": [],
   "source": [
    "#Database connection parameters\n",
    "##server =\n",
    "#database =\n",
    "\n",
    "#password =\n",
    "#driver =\n",
    "\n",
    "#connection_string = f'DRIVER{{{driver}}};SERVER={server};DATABASE={database};UID={username};PWD={password}\n",
    "\n",
    "#conn = pyodbc.connect(connection_string)\n",
    "#cursor = conn.curson()\n",
    "\n",
    "#cursor.setinoutsizes([(pyodbc.SQL_WVARCHAR, 0,0)])"
   ]
  },
  {
   "cell_type": "code",
   "execution_count": 39,
   "metadata": {
    "id": "Kt3UTs9P82vF"
   },
   "outputs": [],
   "source": [
    "death_rate_df.to_csv(\"deathrate.csv\", index=False)"
   ]
  },
  {
   "cell_type": "code",
   "execution_count": null,
   "metadata": {
    "id": "jx4mAjoACf9Q"
   },
   "outputs": [],
   "source": []
  },
  {
   "cell_type": "code",
   "execution_count": 2,
   "metadata": {
    "id": "htlP0BiPyPJr"
   },
   "outputs": [],
   "source": [
    "#Generic Functions\n",
    "\n",
    "#def create_string(length):\n",
    "# if isintance(length, int) and length > 0:\n",
    "#   result_string = \"(\" + \"?,\" * (length - 1) + \"?)\"\n",
    "#   return result_string\n",
    "\n",
    "#def insert_data(table_name, df):\n",
    "# conn = pyodbc.connect(connection_string)\n",
    "# cursor = conn.cursor()\n",
    "# result = create_string(len(df.columns))\n",
    "\n",
    "#insert_query = f\"INSERT INTO {table_name} VALUES {result}\"\n",
    "#print(insert_query)\n",
    "#cursor.executemany(insert_query, df.values.tolist())\n",
    "#conn.commit()\n",
    "#conn.close()"
   ]
  },
  {
   "cell_type": "code",
   "execution_count": 13,
   "metadata": {
    "id": "i7FCwZrt727g"
   },
   "outputs": [],
   "source": [
    "from sqlalchemy import create_engine\n",
    "\n",
    "username = 's.kataria'\n",
    "pwd = 'Iamabakki1!'\n",
    "hostname = 'deathrate.postgres.database.azure.com'\n",
    "port = '5432'\n",
    "database = 'postgres'\n",
    "\n",
    "database_url = f'postgresql://{username}:{pwd}@{hostname}:{port}/{database}'\n",
    "\n",
    "engine = create_engine(database_url)\n"
   ]
  },
  {
   "cell_type": "code",
   "execution_count": null,
   "metadata": {
    "id": "_LpOKJyu-uUo"
   },
   "outputs": [],
   "source": []
  }
 ],
 "metadata": {
  "colab": {
   "provenance": []
  },
  "kernelspec": {
   "display_name": "Python 3 (ipykernel)",
   "language": "python",
   "name": "python3"
  },
  "language_info": {
   "codemirror_mode": {
    "name": "ipython",
    "version": 3
   },
   "file_extension": ".py",
   "mimetype": "text/x-python",
   "name": "python",
   "nbconvert_exporter": "python",
   "pygments_lexer": "ipython3",
   "version": "3.9.13"
  }
 },
 "nbformat": 4,
 "nbformat_minor": 1
}
